{
  "cells": [
    {
      "cell_type": "markdown",
      "metadata": {},
      "source": [
        "# Erklärung zum Aufbau\n",
        "\n",
        "Dieser Kurs ist in drei Teile aufgeteilt.\n",
        "\n",
        "1. Teil - das Tutorial: Mit Videos und Beispielen wird die Sprache erklärt.\n",
        "2. Teil - die Spielwiese: Programmierung lernt man über Übungen. Mit der Spielwiese ist es möglich, komplett losgelöst von den Aufgaben eigene Programmierungen auszuprobieren.\n",
        "3. Teil - die Lektionen: Passend zu den Abschnitten finden sich kleine Übungen, um das eigene Wissen aus Teil 1 zu testen.\n",
        "\n",
        "***\n",
        "---"
      ]
    },
    {
      "cell_type": "markdown",
      "metadata": {
        "id": "78HPV97k-NwK"
      },
      "source": [
        "# 1. Teil - Das Tutorial zu Python\n",
        "\n",
        "\n",
        "---\n",
        "\n",
        "\n",
        "\n",
        "Dies ist der **erste Teil** zum Thema \"Python\".\n",
        "\n",
        "In diesem Tutorial erfährst Du eine kleine Einführung in die beliebteste Programmiersprache der Welt.\n",
        "\n",
        "Dieses Tutorial ist in kleinere Teile aufgeteilt, die jeweils aus einer **Erklärung** und einem ausführbaren **Code** bestehen. Den ausführbaren Code erkennst Du an den **eckigen Klammern \"[]\"**. Um diesen Code auszuführen, musst Du auf der Ebene des Codes sein und dann oben auf den \"Play-Button\" (▶) drücken.\n",
        "\n",
        "---\n",
        "***"
      ]
    },
    {
      "cell_type": "markdown",
      "metadata": {
        "id": "_gOL5LRuOC_d"
      },
      "source": [
        "## Tutorial 1 - *print-Anweisung*\n",
        "\n",
        "Die \"print-Anweisung\" erzeugt Ausgaben.\n",
        "\n",
        "**Führe den unteren Code aus (▶). Ändere den Text nach eigenem Belieben.**\n",
        "\n",
        "Weitere Erklärungen findest über das Video [Python - Teil 1 - Einfache Textausgabe](https://youtu.be/vpoY1_QoeQg)."
      ]
    },
    {
      "cell_type": "code",
      "execution_count": null,
      "metadata": {
        "colab": {
          "base_uri": "https://localhost:8080/"
        },
        "id": "aaAskKoTO6f4",
        "outputId": "91ea3ac2-3e38-46bf-aebc-0fd7d35a252e"
      },
      "outputs": [],
      "source": [
        "print('Hallo Welt')"
      ]
    },
    {
      "cell_type": "markdown",
      "metadata": {},
      "source": [
        "***\n",
        "---\n",
        "\n",
        "\n",
        "# Tutorial 2 - *print-Anweisung (erweitert)*\n",
        "\n",
        "Die ersten PCs (Personal Computer) mussten ohne eine grafische Darstellung auskommen. Mit Zeichen und Symbolen wie ```#```, ```-```, ```+``` oder ```*``` simulierte man eine grafische Oberfläche.\n",
        "\n",
        "**Führe den unteren Code aus (▶). Ändere das ```\"+\"```-Zeichen nach eigenem Belieben.**\n",
        "\n",
        "Weitere Erklärungen findest Du über das folgende Video [Python - Teil 2 - Erweiterte Textausgabe](https://youtu.be/aw9s79k93kA)."
      ]
    },
    {
      "cell_type": "code",
      "execution_count": null,
      "metadata": {},
      "outputs": [],
      "source": [
        "print('+++++++++++++++++++++++++++++++++')\n",
        "print('++         Die Ausgabe         ++')\n",
        "print('+++++++++++++++++++++++++++++++++')"
      ]
    },
    {
      "cell_type": "markdown",
      "metadata": {
        "id": "3PHdm3kpwxZW"
      },
      "source": [
        "***\n",
        "---\n",
        "\n",
        "# Tutorial 3 - *Variablen und Typen (Teil A)*\n",
        "\n",
        "Ein wesentliches Element bei einer Programmiersprache sind die **Variablen**. Diese haben ähnlich wie in der Mathematik die Aufgabe, Werte zu speichern, um diese zu verarbeiten oder zu veröffentlichen.\n",
        "\n",
        "Um mit Variablen arbeiten zu können, müssen diese \"Typen\" zugewiesen werden. Typen sind ```String (Zeichenketten)```, ```int (Integer -> ganze Zahlen)```, ```float (Dezimalzahlen)``` und ```bool (Boolean -> Ja/Nein bzw. Wahr/Falsch)```. Bei Python wird dieser Typ automatisch mit dem Wert zugewiesen.\n",
        "\n",
        "**Führe den unteren Code aus (▶). Ändere die Werte der Variablen auf die Weise, dass der Typ sich ändert.**\n",
        "\n",
        "Weitere Erklärungen findest Du über das folgende Video [Python - Teil 3 - Variablen und Typen](https://youtu.be/Y-pQgMDi1eE).\n"
      ]
    },
    {
      "cell_type": "code",
      "execution_count": null,
      "metadata": {
        "colab": {
          "base_uri": "https://localhost:8080/"
        },
        "id": "IMQxhhp1wrAX",
        "outputId": "ead809e3-bf81-45e6-d9f8-438105717963"
      },
      "outputs": [],
      "source": [
        "#Integer = Ganze Zahlen\n",
        "beine = 5\n",
        "\n",
        "#Float = Dezimalzahlen\n",
        "groesse = 35.6\n",
        "breite = 34.2\n",
        "\n",
        "#String = Textzeichen\n",
        "farbe = 'Braun'\n",
        "\n",
        "#Bool = Wahrheitsaussage\n",
        "wahrheit = True\n",
        "\n",
        "#Ausdruck der Werte\n",
        "print('Ausgabe der Werte')\n",
        "print(beine)\n",
        "print(groesse)\n",
        "print(breite)\n",
        "print(farbe)\n",
        "print(wahrheit)\n",
        "print('Ausgabe der Typen')\n",
        "print(type(beine))\n",
        "print(type(groesse))\n",
        "print(type(breite))\n",
        "print(type(farbe))\n",
        "print(type(wahrheit))"
      ]
    },
    {
      "cell_type": "markdown",
      "metadata": {
        "id": "upqCc2vxB924"
      },
      "source": [
        "***\n",
        "---\n",
        "\n",
        "# Tutorial 3 - *Variablen und Typen (Teil B)*\n",
        "\n",
        "Die Zuweisung von Typen kann erzwungen werden, so dass ```a = 3``` zu einem Integer wird.\n",
        "\n",
        "Für das Erzwingen werden die Funktionen `int()`, `str()` und `float()` verwendet.\n",
        "\n",
        "**Führe den unteren Code aus (▶). Ändere die Werte der Variablen auf die Weise, dass der Typ sich ändern müsste. Beobachte die Ausgaben. Warum gibt es eine Fehlermeldung? Korrigiere die Fehlermeldung.**\n",
        "\n",
        "Weitere Erklärungen findest Du in dem folgenden Video [Python - Teil 4 (E) - Verknüpfung von Text und Zahl](https://youtu.be/skxMoNY0Fb4)."
      ]
    },
    {
      "cell_type": "code",
      "execution_count": null,
      "metadata": {
        "id": "HtgeJh3EDHwr"
      },
      "outputs": [],
      "source": [
        "x = 3.2\n",
        "y = 4\n",
        "z = 'Name'\n",
        "\n",
        "#Ausdruck der Werte\n",
        "print('Ausgabe der Werte')\n",
        "print(x)\n",
        "print(y)\n",
        "print(z)\n",
        "\n",
        "print('Ausdruck der ursprünglichen Typen')\n",
        "print(type(x))\n",
        "print(type(y))\n",
        "print(type(z))\n",
        "\n",
        "print('Erzwingen der Typen')\n",
        "print(int(x))\n",
        "print(str(y))\n",
        "print(float(z))\n",
        "\n",
        "print('Ausdruck der erzwungenen Typen')\n",
        "print(type(int(x)))\n",
        "print(type(str(y)))\n",
        "print(type(float(z)))"
      ]
    },
    {
      "cell_type": "markdown",
      "metadata": {
        "id": "A_u-7n0-Gy9_"
      },
      "source": [
        "***\n",
        "---\n",
        "\n",
        "# Tutorial 4 - *Operatoren - Grundrechenarten (Teil 1)*\n",
        "\n",
        "\n",
        "Eine wichtige Eigenschaft von Variablen ist, dass man mit ihnen Berechnungen, Verknüpfungen (Verkettungen) und Vergleiche durchführen kann. In dieser Aufgabe geht es um die Berechnung mit den Grundrechenarten. Die Grundrechenarten können einfach über die folgenden Rechenoperatoren angewendet werden:\n",
        "\n",
        "\n",
        "*   Addition mit \"+\"\n",
        "*   Subtraktion mit \"-\"\n",
        "*   Multiplikation mit \"*\"\n",
        "*   Division mit \"/\"\n",
        "\n",
        "**Führe den unteren Code aus (▶). Ändere im unteren Code die Rechenoperation in der ```print-Funktion```. Führe jeweils den Code neu aus und beobachte Dein Ergebnis.**\n",
        "\n",
        "Weitere Erklärungen findest Du im folgenden Video [Python - Teil 4 - Operatoren - Grundrechenarten](https://youtu.be/3nPvOvvCFY8)."
      ]
    },
    {
      "cell_type": "code",
      "execution_count": null,
      "metadata": {
        "id": "9HAKVKThI28Q"
      },
      "outputs": [],
      "source": [
        "x = 4\n",
        "y = 5\n",
        "print(x+y)"
      ]
    },
    {
      "cell_type": "markdown",
      "metadata": {
        "id": "BOhY87QVSiKL"
      },
      "source": [
        "***\n",
        "---\n",
        "\n",
        "# Tutorial 4 - *Operatoren - Grundrechenarten (Teil 2)*\n",
        "\n",
        "Operatoren dienen nicht nur zur Berechnung, wie schon in \"Tutorial 4 - *Operatoren - Grundrechenarten (Teil 1)*\" geschrieben, sondern um Werte zu verknüpfen.\n",
        "\n",
        "**Führe den unteren Code aus (▶). Ändere im unteren Code den Text und Wert zu den Variablen und in der ```print-Funktion```. Führe jeweils den Code neu aus und beobachte Dein Ergebnis.**\n",
        "\n",
        "Weitere Erklärungen findest Du in dem folgenden Video [Python - Teil 4 (E) - Verknüpfung von Text und Zahl](https://youtu.be/skxMoNY0Fb4)."
      ]
    },
    {
      "cell_type": "code",
      "execution_count": null,
      "metadata": {
        "id": "pbpt_zcYTr99"
      },
      "outputs": [],
      "source": [
        "x = 'Hallo'\n",
        "y = 'Welt'\n",
        "print(x + ', ich bin der Schönste auf dieser ' + y + '!')"
      ]
    },
    {
      "cell_type": "markdown",
      "metadata": {
        "id": "ZLAZZ3UYtd_G"
      },
      "source": [
        "***\n",
        "---\n",
        "\n",
        "# Tutorial 5 - *Operatoren - Vergleichsoperatoren*\n",
        "\n",
        "Nebenden \"Rechenoperatoren\" gibt es die \"Vergleichsoperatoren\". Diese dienen dazu, um Werte miteinander zu vergleichen oder zu ordnen.\n",
        "\n",
        "Der Vergleich ist \"wahr\" (true) oder \"falsch\" (false). Solche Ergebnisse gehören zum Typ \"boolean\". Zu den Vergleichoperatoren zählen:\n",
        "*  < ➡ kleiner-größer (Beispiel: 5 < 7)\n",
        "*  \\>  ➡ größer-kleiner (Beispiel: 7 > 5)\n",
        "*  <=  ➡ kleiner-gleich (Beispiel: 7 <= 7 oder 5 <= 7)\n",
        "*  \\>=  ➡ größer-gleich (Beispiel: 7 >= 7 oder 7 >= 5)\n",
        "*  ==  ➡ gleich-gleich (Beispiel: 7 == 7)\n",
        "\n",
        "**Führe den unteren Code aus (▶). Ändere die Werte und die Operatoren, um die Aussagen zu wechseln.**\n",
        "\n",
        "Weitere Erklärungen findest Du in dem folgenden Video [Python - Teil 5 - Operatoren - Vergleichsoperatoren](https://youtu.be/_Z-de-fh5K4)."
      ]
    },
    {
      "cell_type": "code",
      "execution_count": null,
      "metadata": {
        "id": "d388uKyIvmDg"
      },
      "outputs": [],
      "source": [
        "x = 6\n",
        "y = 7\n",
        "z = x < 7\n",
        "print(z)"
      ]
    },
    {
      "cell_type": "markdown",
      "metadata": {},
      "source": [
        "***\n",
        "---\n",
        "\n",
        "# Tutorial 6 - *Inkrementieren von Variablen*\n",
        "\n",
        "Nebenden \"Rechenoperatoren\" gibt es die Option des Erhöhens und Veringerns. Python bietet weitere Möglichkeiten des \"Inkrementieren von Variablen\".\n",
        "\n",
        "**Führe den unteren Code aus (▶). Ändere jeweils die Werte nach ```+=``` und ```-=```. Beobachte die Ergebnisse.**\n",
        "\n",
        "Weitere Erklärungen findest Du in dem folgenden Video [Python - Teil 6 - Inkrementieren von Variablen]( https://youtu.be/NFIlSL3IEKw).\n"
      ]
    },
    {
      "cell_type": "code",
      "execution_count": null,
      "metadata": {},
      "outputs": [],
      "source": [
        "# Erhöhung\n",
        "a = 10\n",
        "a += 1\n",
        "\n",
        "print(a)\n",
        "\n",
        "# Verringerung\n",
        "b = 10\n",
        "b -= 1\n",
        "\n",
        "print(b)"
      ]
    },
    {
      "cell_type": "markdown",
      "metadata": {
        "id": "M3IW_AO4XNd_"
      },
      "source": [
        "***\n",
        "---\n",
        "\n",
        "# Tutorial 7 - input-Funktion\n",
        "\n",
        "Eine Programmierung ist erst dann sinnvoll, wenn der Nutzer Werte eingeben kann. In Python wird dies über die Funktion ```input()``` bewerkstelligt.\n",
        "\n",
        "Wichtiger Hinweis: Die Werte aus einem input werden als Typ \"String\" gelesen. Möchte man mit diesen Werten rechnen, müssen diese in int() *(siehe vorher Tutorial 3 - Teil 1 und 2)* umgewandelt werden.\n",
        "\n",
        "1. **Führe den unteren Code aus (▶). ```*value1*``` und ```*value2*``` geben jeweils eine Anweisung für eine Eingabe. Diese Eingaben werden in der ```print-Funktion``` verknüpft. Ändere jeweils den Text nach eigenem Ermessen. Beobachte die Ergebnisse.**\n",
        "2. **Mit einer Anweisung wie ```int(input(\"Gebe was ein:\"))``` werden die Eingaben in int-Typ umgewandelt, um damit rechnen zu können. Nutze die Grundrechenarten, um einen Mini-Taschenrechner zu basteln.**\n",
        "\n",
        "**Weitere Erklärungen findest Du in dem folgenden Video [Python - Teil 7 - Input](https://youtu.be/yCHO36giXY4).**"
      ]
    },
    {
      "cell_type": "code",
      "execution_count": null,
      "metadata": {
        "colab": {
          "base_uri": "https://localhost:8080/"
        },
        "id": "CzxSK4cGZBks",
        "outputId": "ecb37de7-8bdf-4825-fb48-7c835098d939"
      },
      "outputs": [],
      "source": [
        "# Textausgabe - Aufgabe 1\n",
        "value1 = input('Gebe einen ersten Wert an:')\n",
        "value2 = input('Gebe einen zweiten Wert an:')\n",
        "\n",
        "print(value1 + value2)\n",
        "\n",
        "# Mini-Taschenrechner - Aufgabe 2\n",
        "number1 =int(input(\"Trage eine Zahl ein:\"))\n",
        "number2 =int(input(\"Trage zweite Zahl ein:\"))\n",
        "\n",
        "print(number1 + number2)"
      ]
    },
    {
      "cell_type": "markdown",
      "metadata": {},
      "source": [
        "***\n",
        "---\n",
        "\n",
        "# Tutorial 8 - if-Abfragen und while-Schleifen\n",
        "\n",
        "Abfragen und Schleifen gehören zu den Grundfertigkeiten innerhalb einer Programmiersprache. Diese sind wichtige Werkzeuge, um Daten abzufragen und \"durchzugehen\".\n",
        "\n",
        "1. **Führe den unteren Code aus (▶). Verändere unter \"if-Abfrage\" die Variablen ```*a*``` und ```*b*```, so dass die print-Ausgabe wechselt.**\n",
        "2. **Führe den unteren Code aus (▶). Beobachte unter \"while-Schleife\" die Ausgabe. Was stellst Du fest? Überprüfe Deine Beobachtung, indem Du die Variable c veränderst.**\n",
        "\n",
        "**Weitere Erklärungen findest Du in dem folgende Video [Python - Teil 8 - if-Abfragen und while-Schleifen](https://youtu.be/pra5ClwgwFk).**"
      ]
    },
    {
      "cell_type": "code",
      "execution_count": null,
      "metadata": {},
      "outputs": [],
      "source": [
        "# if-Abfrage\n",
        "a = 5\n",
        "b = 6\n",
        "\n",
        "if (a<b):\n",
        "    print(\"a ist kleiner\")\n",
        "else:\n",
        "    print(\"b ist kleiner\")\n",
        "    \n",
        "# while-Schleife\n",
        "c = 7\n",
        "d = 1\n",
        "\n",
        "while(d<10):\n",
        "    e = c * d\n",
        "    print(e)\n",
        "    d += 1"
      ]
    },
    {
      "cell_type": "markdown",
      "metadata": {},
      "source": [
        "***\n",
        "---\n",
        "\n",
        "# Tutorial 9 - Funktionen\n",
        "\n",
        "Der Quellcode eines Programms ist untergliedert in \"Mini-Programmen\". Diese Einteilung ist hilfreich bei der Fehlersuche und der Optimierung von Programmen.\n",
        "\n",
        "Die kleinste Einheit in diesem Bezug ist die ```Funktion```. Solche Mini-Programme werden in Python mit ```def``` eingeleitet, worauf ein Name für die Funktion angegeben wird. In der Klammer können Variablen stehen, müssen aber nicht (wie im unteren Beispiel).\n",
        "\n",
        "Um diese Programme zu starten, müssen diese am Ende per Namen angegeben werden.\n",
        "\n",
        "1. **Entferne in der vorletzten Zeile das ```#``` vor ```kleine_if_abfrage()```. Führe den unteren Code aus (▶). Folge den Anweisungen, um das Mini-Programm auszuprobieren. Verändere oder erweitere die if-Abfrage auf die Weise, dass ebenfalls eine Ausgabe erfolgt, wenn beide Werte gleich sind.**\n",
        "2. **Entferne in der letzten Zeile das ```#``` vor ```kleine_while_schleife()```. Führe den unteren Code aus (▶). Folge den Anweisungen, um das Mini-Programm auszuprobieren. Verändere oder erweitere die while-Schleife auf die Weise, dass die Reihe erst ab 11 gerechnet wird (z.B. ```2*11=22```).**\n",
        "\n",
        "**Weitere Erklärungen findest Du in dem folgende Video [Python - Teil 9 - Funktionen](https://youtu.be/m54DRf6rlUs).**"
      ]
    },
    {
      "cell_type": "code",
      "execution_count": null,
      "metadata": {},
      "outputs": [],
      "source": [
        "# Funktion mit einer if-Abfrage\n",
        "def kleine_if_abfrage():\n",
        "    value1 = int(input('Gebe einen ersten Wert an:'))\n",
        "    value2 = int(input('Gebe einen zweiten Wert an:'))\n",
        "\n",
        "    if (value1<value2):\n",
        "        print(\"Erste Eingabe ist kleiner\")\n",
        "    else:\n",
        "        print(\"Zweite Eingabe ist kleiner\")\n",
        "    \n",
        "# Funktion mit einer while-Schleife\n",
        "def kleine_while_schleife():\n",
        "    value1 = int(input('Gebe einen Wert für die Reihe an:'))\n",
        "    value2 = int(input('Gebe einen Wert für die Anzahl der Reihen an:'))\n",
        "    \n",
        "    d = 1\n",
        "\n",
        "    while(d<value2):\n",
        "        e = value1 * d\n",
        "        print(e)\n",
        "        d += 1\n",
        "    \n",
        "# \"Starten\" der Programme\n",
        "# kleine_if_abfrage()\n",
        "# kleine_while_schleife()"
      ]
    }
  ],
  "metadata": {
    "colab": {
      "provenance": []
    },
    "kernelspec": {
      "display_name": "Python 3",
      "name": "python3"
    },
    "language_info": {
      "codemirror_mode": {
        "name": "ipython",
        "version": 3
      },
      "file_extension": ".py",
      "mimetype": "text/x-python",
      "name": "python",
      "nbconvert_exporter": "python",
      "pygments_lexer": "ipython3",
      "version": "3.11.4"
    }
  },
  "nbformat": 4,
  "nbformat_minor": 0
}
