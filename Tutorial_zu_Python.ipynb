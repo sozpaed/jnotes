{
  "cells": [
    {
      "cell_type": "markdown",
      "metadata": {
        "id": "78HPV97k-NwK"
      },
      "source": [
        "# Das Tutorial zu Python\n",
        "\n",
        "\n",
        "---\n",
        "\n",
        "\n",
        "\n",
        "Dies ist der **erste Teil** zum Thema \"Python\".\n",
        "\n",
        "In diesem Tutorial erfährst Du eine kleine Einführung in die beliebteste Programmiersprache der Welt.\n",
        "\n",
        "Dieses Tutorial ist in kleinere Teile aufgeteilt, die jeweils aus einer **Erklärung** und einem ausführbaren **Code** bestehen. Den ausführbaren code erkennst Du an den eckigen Klammern \"[]\". Um diesen Code auszuführen, musst Du oben auf den \"Play-Button\" (▶) drücken.\n",
        "\n",
        "---\n",
        "***"
      ]
    },
    {
      "cell_type": "markdown",
      "metadata": {
        "id": "_gOL5LRuOC_d"
      },
      "source": [
        "## Tutorial 1 - *print-Anweisung*\n",
        "\n",
        "Die \"print-Anweisung\" erzeugt Ausgaben.\n",
        "\n",
        "**Führe den unteren Code aus (▶). Ändere den Text nach eigenem Belieben.**\n",
        "\n",
        "Weitere Erklärungen findest über das Video [Python - Teil 1 - Einfache Textausgabe](https://youtu.be/vpoY1_QoeQg)."
      ]
    },
    {
      "cell_type": "code",
      "execution_count": null,
      "metadata": {
        "colab": {
          "base_uri": "https://localhost:8080/"
        },
        "id": "aaAskKoTO6f4",
        "outputId": "91ea3ac2-3e38-46bf-aebc-0fd7d35a252e"
      },
      "outputs": [],
      "source": [
        "print('Hallo Welt')"
      ]
    },
    {
      "cell_type": "markdown",
      "metadata": {},
      "source": [
        "***\n",
        "---\n",
        "\n",
        "\n",
        "# Tutorial 2 - *print-Anweisung (erweitert)*\n",
        "\n",
        "Die ersten PCs (Personal Computer) mussten ohne eine grafische Darstellung auskommen. Mit Zeichen und Symbolen wie ```#```, ```-```, ```+``` oder ```*``` simulierte man eine grafische Oberfläche.\n",
        "\n",
        "**Führe den unteren Code aus (▶). Ändere das ```\"+\"```-Zeichen nach eigenem Belieben.**\n",
        "\n",
        "Weitere Erklärungen findest Du über das folgende Video [Python - Teil 2 - Erweiterte Textausgabe](https://youtu.be/aw9s79k93kA)."
      ]
    },
    {
      "cell_type": "code",
      "execution_count": null,
      "metadata": {},
      "outputs": [],
      "source": [
        "print('+++++++++++++++++++++++++++++++++')\n",
        "print('++         Die Ausgabe         ++')\n",
        "print('+++++++++++++++++++++++++++++++++')"
      ]
    },
    {
      "cell_type": "markdown",
      "metadata": {
        "id": "3PHdm3kpwxZW"
      },
      "source": [
        "***\n",
        "---\n",
        "\n",
        "# Tutorial 3 - *Variablen und Typen (Teil A)*\n",
        "\n",
        "Ein wesentliches Element bei einer Programmiersprache sind die **Variablen**. Diese haben ähnlich wie in der Mathematik die Aufgabe, Werte zu speichern, um diese zu verarbeiten oder zu veröffentlichen.\n",
        "\n",
        "Um mit Variablen arbeiten zu können, müssen diese \"Typen\" zugewiesen werden. Typen sind ```String (Zeichenketten)```, ```int (Integer -> ganze Zahlen)```, ```float (Dezimalzahlen)``` und ```bool (Boolean -> Ja/Nein bzw. Wahr/Falsch)```. Bei Python wird dieser Typ automatisch mit dem Wert zugewiesen.\n",
        "\n",
        "**Führe den unteren Code aus (▶). Ändere die Werte der Variablen auf die Weise, dass der Typ sich ändert.**\n",
        "\n",
        "Weitere Erklärungen findest Du über das folgende Video [Python - Teil 3 - Variablen und Typen](https://youtu.be/Y-pQgMDi1eE).\n"
      ]
    },
    {
      "cell_type": "code",
      "execution_count": null,
      "metadata": {
        "colab": {
          "base_uri": "https://localhost:8080/"
        },
        "id": "IMQxhhp1wrAX",
        "outputId": "ead809e3-bf81-45e6-d9f8-438105717963"
      },
      "outputs": [],
      "source": [
        "#Integer = Ganze Zahlen\n",
        "beine = 5\n",
        "\n",
        "#Float = Dezimalzahlen\n",
        "groesse = 35.6\n",
        "breite = 34.2\n",
        "\n",
        "#String = Textzeichen\n",
        "farbe = 'Braun'\n",
        "\n",
        "#Bool = Wahrheitsaussage\n",
        "wahrheit = True\n",
        "\n",
        "#Ausdruck der Werte\n",
        "print('Ausgabe der Werte')\n",
        "print(beine)\n",
        "print(groesse)\n",
        "print(breite)\n",
        "print(farbe)\n",
        "print(wahrheit)\n",
        "print('Ausgabe der Typen')\n",
        "print(type(beine))\n",
        "print(type(groesse))\n",
        "print(type(breite))\n",
        "print(type(farbe))\n",
        "print(type(wahrheit))"
      ]
    },
    {
      "cell_type": "markdown",
      "metadata": {
        "id": "upqCc2vxB924"
      },
      "source": [
        "***\n",
        "---\n",
        "\n",
        "# Tutorial 3 - *Variablen und Typen (Teil B)*\n",
        "\n",
        "Die Zuweisung von Typen kann erzwungen werden, so dass ```a = 3``` zu einem Integer wird.\n",
        "\n",
        "Für das Erzwingen werden die Funktionen `int()`, `str()` und `float()` verwendet.\n",
        "\n",
        "**Führe den unteren Code aus (▶). Ändere die Werte der Variablen auf die Weise, dass der Typ sich ändern müsste. Beobachte die Ausgaben. Warum gibt es eine Fehlermeldung? Korrigiere die Fehlermeldung.**\n",
        "\n",
        "Weitere Erklärungen findest Du in dem folgenden Video [Python - Teil 4 (E) - Verknüpfung von Text und Zahl](https://youtu.be/skxMoNY0Fb4)."
      ]
    },
    {
      "cell_type": "code",
      "execution_count": null,
      "metadata": {
        "id": "HtgeJh3EDHwr"
      },
      "outputs": [],
      "source": [
        "x = 3.2\n",
        "y = 4\n",
        "z = 'Name'\n",
        "\n",
        "#Ausdruck der Werte\n",
        "print('Ausgabe der Werte')\n",
        "print(x)\n",
        "print(y)\n",
        "print(z)\n",
        "\n",
        "print('Ausdruck der ursprünglichen Typen')\n",
        "print(type(x))\n",
        "print(type(y))\n",
        "print(type(z))\n",
        "\n",
        "print('Erzwingen der Typen')\n",
        "print(int(x))\n",
        "print(str(y))\n",
        "print(float(z))\n",
        "\n",
        "print('Ausdruck der erzwungenen Typen')\n",
        "print(type(int(x)))\n",
        "print(type(str(y)))\n",
        "print(type(float(z)))"
      ]
    },
    {
      "cell_type": "markdown",
      "metadata": {
        "id": "A_u-7n0-Gy9_"
      },
      "source": [
        "***\n",
        "---\n",
        "\n",
        "# Tutorial 4 - *Operatoren - Grundrechenarten (Teil 1)*\n",
        "\n",
        "\n",
        "Eine wichtige Eigenschaft von Variablen ist, dass man mit ihnen Berechnungen, Verknüpfungen (Verkettungen) und Vergleiche durchführen kann. In dieser Aufgabe geht es um die Berechnung mit den Grundrechenarten. Die Grundrechenarten können einfach über die folgenden Rechenoperatoren angewendet werden:\n",
        "\n",
        "\n",
        "*   Addition mit \"+\"\n",
        "*   Subtraktion mit \"-\"\n",
        "*   Multiplikation mit \"*\"\n",
        "*   Division mit \"/\"\n",
        "\n",
        "**Führe den unteren Code aus (▶). Ändere im unteren Code die Rechenoperation in der ```print-Funktion```. Führe jeweils den Code neu aus und beobachte Dein Ergebnis.**\n",
        "\n",
        "Weitere Erklärungen findest Du im folgenden Video [Python - Teil 4 - Operatoren - Grundrechenarten](https://youtu.be/3nPvOvvCFY8)."
      ]
    },
    {
      "cell_type": "code",
      "execution_count": null,
      "metadata": {
        "id": "9HAKVKThI28Q"
      },
      "outputs": [],
      "source": [
        "x = 4\n",
        "y = 5\n",
        "print(x+y)"
      ]
    },
    {
      "cell_type": "markdown",
      "metadata": {
        "id": "BOhY87QVSiKL"
      },
      "source": [
        "***\n",
        "---\n",
        "\n",
        "# Tutorial 4 - *Operatoren - Grundrechenarten (Teil 2)*\n",
        "\n",
        "Operatoren dienen nicht nur zur Berechnung, wie schon in \"Tutorial 4 - *Operatoren - Grundrechenarten (Teil 1)*\" geschrieben, sondern um Werte zu verknüpfen.\n",
        "\n",
        "**Führe den unteren Code aus (▶). Ändere im unteren Code den Text und Wert zu den Variablen und in der ```print-Funktion```. Führe jeweils den Code neu aus und beobachte Dein Ergebnis.**\n",
        "\n",
        "Weitere Erklärungen findest Du in dem folgenden Video [Python - Teil 4 (E) - Verknüpfung von Text und Zahl](https://youtu.be/skxMoNY0Fb4)."
      ]
    },
    {
      "cell_type": "code",
      "execution_count": null,
      "metadata": {
        "id": "pbpt_zcYTr99"
      },
      "outputs": [],
      "source": [
        "x = 'Hallo'\n",
        "y = 'Welt'\n",
        "print(x + ', ich bin der Schönste auf dieser ' + y + '!')"
      ]
    },
    {
      "cell_type": "markdown",
      "metadata": {
        "id": "ZLAZZ3UYtd_G"
      },
      "source": [
        "***\n",
        "---\n",
        "\n",
        "# Tutorial 5 - *Operatoren - Vergleichsoperatoren*\n",
        "\n",
        "Nebenden \"Rechenoperatoren\" gibt es die \"Vergleichsoperatoren\". Diese dienen dazu, um Werte miteinander zu vergleichen oder zu ordnen.\n",
        "\n",
        "Der Vergleich ist \"wahr\" (true) oder \"falsch\" (false). Solche Ergebnisse gehören zum Typ \"boolean\". Zu den Vergleichoperatoren zählen:\n",
        "*  < ➡ kleiner-größer (Beispiel: 5 < 7)\n",
        "*  \\>  ➡ größer-kleiner (Beispiel: 7 > 5)\n",
        "*  <=  ➡ kleiner-gleich (Beispiel: 7 <= 7 oder 5 <= 7)\n",
        "*  \\>=  ➡ größer-gleich (Beispiel: 7 >= 7 oder 7 >= 5)\n",
        "*  ==  ➡ gleich-gleich (Beispiel: 7 == 7)\n",
        "\n",
        "**Führe den unteren Code aus (▶). Ändere die \"Aussage\", um den Wert des Typs zu ändern.**\n",
        "\n",
        "Weitere Erklärungen findest Du in dem folgenden Video [Python - Teil 4 - Operatoren - Vergleichsoperatoren](https://youtu.be/_Z-de-fh5K4)."
      ]
    },
    {
      "cell_type": "code",
      "execution_count": null,
      "metadata": {
        "id": "d388uKyIvmDg"
      },
      "outputs": [],
      "source": [
        "x = 6\n",
        "y = 7\n",
        "z = x < 7\n",
        "print(z)"
      ]
    },
    {
      "cell_type": "markdown",
      "metadata": {
        "id": "M3IW_AO4XNd_"
      },
      "source": [
        "## P - Aufgabe 5 - input-Funktion\n",
        "\n",
        "Eine Programmierung ist vieler Hinsicht erst dann sinnvoll, wenn der Nutzer Werte eingeben kann. Wie aus den Aufgaben zuvor zu erkennen, ist der Typ von Bedeutung (und Zahlen können dann String sein 😏). Über eine input-Anweisung `input()` werden alle Eingaben als \"String\" zurückgegeben. Will man mit diesen rechnen, müssen diese \"umgewandelt\" werden, wie in \"P - Aufgabe 3 - Typen von Variablen (Teil C)\".\n",
        "\n",
        "1.   **Passen den Code auf die Weise an, dass beide Eingaben berechnet werden können.**\n",
        "2.   **Führe über eine weitere input-Anweisung eine Verkettung mit einem bestehenden Text und den Eingaben durch (siehe \"P - Aufgabe 4 -  Opertoren (Teil B)\")**\n",
        "\n",
        "[(Video 6](https://www.youtube.com/watch?v=I9h1c-121Uk&list=PL_pqkvxZ6ho3u8PJAsUU-rOAQ74D0TqZB&index=6), [(Video 7)](https://www.youtube.com/watch?v=u_ECGvn1Z2c&list=PL_pqkvxZ6ho3u8PJAsUU-rOAQ74D0TqZB&index=7)"
      ]
    },
    {
      "cell_type": "code",
      "execution_count": null,
      "metadata": {
        "colab": {
          "base_uri": "https://localhost:8080/"
        },
        "id": "CzxSK4cGZBks",
        "outputId": "ecb37de7-8bdf-4825-fb48-7c835098d939"
      },
      "outputs": [
        {
          "name": "stdout",
          "output_type": "stream",
          "text": [
            "Gebe einen ersten Wert an:12\n",
            "Gebe einen zweiten Wert an:12\n",
            "1212\n"
          ]
        }
      ],
      "source": [
        "value1 = input('Gebe einen ersten Wert an:')\n",
        "value2 = input('Gebe einen zweiten Wert an:')\n",
        "\n",
        "print(value1 + value2)"
      ]
    }
  ],
  "metadata": {
    "colab": {
      "provenance": []
    },
    "kernelspec": {
      "display_name": "Python 3",
      "name": "python3"
    },
    "language_info": {
      "codemirror_mode": {
        "name": "ipython",
        "version": 3
      },
      "file_extension": ".py",
      "mimetype": "text/x-python",
      "name": "python",
      "nbconvert_exporter": "python",
      "pygments_lexer": "ipython3",
      "version": "3.11.4"
    }
  },
  "nbformat": 4,
  "nbformat_minor": 0
}
