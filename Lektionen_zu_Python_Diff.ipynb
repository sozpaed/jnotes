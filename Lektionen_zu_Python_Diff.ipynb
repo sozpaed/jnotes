{
  "cells": [
    {
      "cell_type": "markdown",
      "metadata": {
        "id": "78HPV97k-NwK"
      },
      "source": [
        "# 3. Teil - Lektionen zu Python\n",
        "\n",
        "\n",
        "---\n",
        "\n",
        "\n",
        "\n",
        "Dies ist der **dritte Teil** zum Thema \"Python\".\n",
        "\n",
        "In diesen Lektionen wendet man alle Elemente aus dem Tutorial an.\n",
        "\n",
        "---\n",
        "***"
      ]
    },
    {
      "cell_type": "markdown",
      "metadata": {
        "id": "_gOL5LRuOC_d"
      },
      "source": [
        "## Lektion 1 - *Abfrage entwerfen* *\n",
        "\n",
        "Entwerfe zu den folgenden Sätzen Abfragen mit dem Befehl ```input```. Übertrage die Werte dieser Abfrage jeweils in einen anderen Variabelnamen. Gebe die Antworten in einem Satz mit dem Befehl ```print``` zusammen.\n",
        "- Wie ist Dein Name?\n",
        "- Wo wohnst Du?\n",
        "- Was ist Dein Hobby"
      ]
    },
    {
      "cell_type": "code",
      "execution_count": null,
      "metadata": {
        "colab": {
          "base_uri": "https://localhost:8080/"
        },
        "id": "aaAskKoTO6f4",
        "outputId": "91ea3ac2-3e38-46bf-aebc-0fd7d35a252e"
      },
      "outputs": [],
      "source": [
        "#Lektion 1"
      ]
    },
    {
      "cell_type": "markdown",
      "metadata": {},
      "source": [
        "***\n",
        "---\n",
        "\n",
        "\n",
        "# Lektion 2 - *1x1-Kopfübung*\n",
        "\n",
        "Entwerfe ein Programm, das Multiplikationsaufgaben aus zwei zufäligen Zahlen erzeugt. Über eine Abfrage sollen Nutzer eine Zahl eingeben können. Implementiere die folgenden Funktionen:\n",
        "- **Überprüfung**: Die Eingabe des Users und die Berechnung durch das Programm solleb verglichen werden. Sind beide Werte korrekt, soll die Ausgabe \"richtig\" ansonsten \"falsch\" angezeigt werden.\n",
        "- **Punktezählung**: Über einen Punktezähler soll die Anzahl der \"richtig\" gelösten Aufgaben erfasst werden. Ist die Aufgabe \"falsch\" gelöst, soll je ein Punkt abgezogen werden.\n",
        "- **Schwierigkeitsgrad**: Der Schwierigkeitsgrad der Aufgaben soll sich steigern. Entweder in Abhängigkeit der Punktezählung oder über die Einstellungen."
      ]
    },
    {
      "cell_type": "code",
      "execution_count": null,
      "metadata": {},
      "outputs": [],
      "source": [
        "# Lektion 2"
      ]
    },
    {
      "cell_type": "markdown",
      "metadata": {},
      "source": [
        "***\n",
        "---\n",
        "\n",
        "\n",
        "# Lektion 3 - *1x1-Reihe*\n",
        "\n",
        "Entwerfe ein Programm, das 1x1-Reihen erzeugt. Über Abfragen sollen Nutzer eine Zahl für die Reihe (beispielsweise 2 für 2er-Reiher) und eine Zahl für die Anzahl der Reihen (beispielsweise 10 für 2\\*1, 2\\*2, 2\\*3, ... 2\\*20) eingeben können."
      ]
    },
    {
      "cell_type": "code",
      "execution_count": null,
      "metadata": {},
      "outputs": [],
      "source": [
        "# Lektion 3"
      ]
    },
    {
      "cell_type": "markdown",
      "metadata": {},
      "source": [
        "***\n",
        "---\n",
        "\n",
        "\n",
        "# Lektion 4 - *Ein mathematische Phänomen durchlaufen*\n",
        "\n",
        "Entwerfe ein Programm, das jeweils eine Zufallszahl zwischen 0 und 9 erzeugt. Mit Hilfe dieser Zufallszahl soll folgendes kleines Programm erstellt werden:\n",
        "\n",
        "**a)** Multipliziere eine Zufallszahl mit 2, wenn diese Zufallszahl < 1. Wenn jedoch diese Zufallszahl >=1 ist, ziehe 1 ab.\n",
        "\n",
        "**b)** Implementiere die Programmcode aus a) in eine while-Schleife, die enden soll, wenn diese Zufallszahl gleich 0 ist.\n",
        "\n",
        "> Aufgabe aus \"Captain CiaoCiao erobert Java, Kapitel 2.5.4, Rheinwerk Computing, 2021, E-Book"
      ]
    },
    {
      "cell_type": "code",
      "execution_count": null,
      "metadata": {},
      "outputs": [],
      "source": [
        "# Lektion 4"
      ]
    },
    {
      "cell_type": "markdown",
      "metadata": {},
      "source": [
        "***\n",
        "---\n",
        "\n",
        "\n",
        "# Lektion 5 - *Aufteilung der Beute*\n",
        "\n",
        "Räuber Joe und seine Bande gehen regelmäßig auf Beutezug. Die Bande geht nach folgenden Regeln vor:\n",
        "\n",
        "- Die Beute muss mindestens 100000 Euro betragen.\n",
        "- Räuber Joe erhält die Hälfte. Der restliche Betrag wird auf die anderen Räuber aufgeteilt.\n",
        "- Sollte bei der letzten Aufteilung übrig bleiben, entscheidet Räuber Joe, ob er den Betrag erhält oder auf die nächste Beute draufgelegt wird.\n",
        "- Die Anzahl der Bandenmitglieder ist nicht bei jedem Raub gleich hoch.\n",
        "\n",
        "Entwerfe ein Programm, das die Höhe der Beute, die Anzahl Bandemitglieder und die Entscheidung von Räuber Joe abfragt. Es gibt die Höhe der Anteile für alle Bandemitglieder und die Höhe des Restbetrages aus. Was geschieht mit dem Rest?\n",
        "\n",
        "**Kleiner Zusatz**: Ermittle vor der Aufteilung, ob die Beute gerecht (also ohne Rest) aufgeteilt werden kann. Gebe hierfür einen Boolean (wahr/falsch) aus.\n",
        "\n",
        "> Aufgabe in Anlehnung aus \"Captain CiaoCiao erobert Java, Kapitel 2.3.2, Rheinwerk Computing, 2021, E-Book"
      ]
    },
    {
      "cell_type": "code",
      "execution_count": null,
      "metadata": {},
      "outputs": [],
      "source": [
        "# Lektion 5"
      ]
    },
    {
      "cell_type": "markdown",
      "metadata": {},
      "source": [
        "***\n",
        "---\n",
        "\n",
        "\n",
        "# Lektion 6 - *Falsche Abzweigung*\n",
        "\n",
        "Entwerfe ein Programm bei dem ein User nacheinander zwei Zahlenwerte eingibt. Das Programm soll entscheiden, welche dieser Zahlen größer ist. Ist die erste Eingabe größer als die Zweite, dann sollen die Zahlenwerte getauscht werden. Ist dies nicht der Fall, sollen beide Werte miteinander addiert werden.\n",
        "\n",
        "> Aufgabe in Anlehnung aus \"Captain CiaoCiao erobert Java, Kapitel 2.4.2, Rheinwerk Computing, 2021, E-Book"
      ]
    },
    {
      "cell_type": "code",
      "execution_count": null,
      "metadata": {},
      "outputs": [],
      "source": [
        "# Lektion 6"
      ]
    },
    {
      "cell_type": "markdown",
      "metadata": {},
      "source": [
        "***\n",
        "---\n",
        "\n",
        "\n",
        "# Lektion 7 - *Fakultät*\n",
        "\n",
        "Entwerfe ein Programm, das die Fakultät einer Zahl berechnet.\n",
        "\n",
        "> Die Fakultät an Beispielen $3! = 1 \\cdot 2 \\cdot 3 = 6$ oder $5! =  1 \\cdot 2 \\cdot 3 \\cdot 4 \\cdot 5 = 120$"
      ]
    },
    {
      "cell_type": "code",
      "execution_count": null,
      "metadata": {},
      "outputs": [],
      "source": [
        "# Lektion 7"
      ]
    }
  ],
  "metadata": {
    "colab": {
      "provenance": []
    },
    "kernelspec": {
      "display_name": "Python 3",
      "name": "python3"
    },
    "language_info": {
      "codemirror_mode": {
        "name": "ipython",
        "version": 3
      },
      "file_extension": ".py",
      "mimetype": "text/x-python",
      "name": "python",
      "nbconvert_exporter": "python",
      "pygments_lexer": "ipython3",
      "version": "3.11.4"
    }
  },
  "nbformat": 4,
  "nbformat_minor": 0
}
