{
 "cells": [
  {
   "cell_type": "markdown",
   "metadata": {},
   "source": [
    "# Erklärung zum Aufbau\n",
    "\n",
    "Dieser Kurs ist in drei Teile aufgeteilt.\n",
    "\n",
    "1. Teil - das Tutorial: Mit Videos und Beispielen wird die Sprache erklärt.\n",
    "2. Teil - die Übungen: Passend zu den Abschnitten zum ersten Teil sind Übungen angegeben.\n",
    "3. Teil - die Lernkontrollen: Passend zu den Abschnitten finden sich in [replit.com](https://replit.com) kleine Lernkontrollen, um das eigene Wissen zu testen."
   ]
  }
 ],
 "metadata": {
  "language_info": {
   "name": "python"
  },
  "orig_nbformat": 4
 },
 "nbformat": 4,
 "nbformat_minor": 2
}
