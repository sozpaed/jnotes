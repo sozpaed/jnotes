{
  "cells": [
    {
      "cell_type": "markdown",
      "metadata": {
        "id": "78HPV97k-NwK"
      },
      "source": [
        "# Einleitung\n",
        "\n",
        "\n",
        "---\n",
        "\n",
        "\n",
        "\n",
        "Diese Übungsreihe ist in zwei Teile aufgeteilt.\n",
        "\n",
        "Der **erste Teil (G)** befasst sich mit den Grundlagen zur \"Künstlichen Intelligenz\". Als Grundlage dient hierzu die Videoreihe \"[Programmiere mit Python - Baue deine eigene KI](https://www.youtube.com/watch?v=-AwZsLwQHlo&list=PLIYzsTnFhywyjBon1_tE4ZGVzXAx5FpWr)\". Da die Ausführungen zur Python ab Video 9 recht komplex werden, wird für den zweiten Teil eine andere Videoreihe genutzt, die eine Einführung in diese Sprache gibt.\n",
        "\n",
        "Die führende Programmiersprache in Bezug auf KI ist Python. Der **zweite Teil (P)** befasst sich daher mit dieser Programmiersprache. Als Grundlage dient die Videoreihe [\"Python Tutorial deutsch/german (Crashkurs)\"](https://www.youtube.com/watch?v=oxXAb8IikHM&list=PL_pqkvxZ6ho3u8PJAsUU-rOAQ74D0TqZB).\n",
        "\n",
        "Erst mit diesen beiden Teilen empfehle ich entweder mit der ersten Videoreihe ab Video 9 weiter zu arbeiten oder einen einfachen Chatbot per [Array](https://colab.research.google.com/drive/1kn3IDjGDt3a7m0vcrp6sV1oa49BrAHY6) oder per https://machinelearningforkids.co.uk umzusetzen."
      ]
    },
    {
      "cell_type": "markdown",
      "metadata": {
        "id": "o5qGO3CREdiW"
      },
      "source": [
        "#Aufgaben für die Grundlage (G)\n",
        "##Grundlage für diese Übung ist die Videoreihe \"[Programmiere mit Python - Baue deine eigene KI](https://www.youtube.com/watch?v=-AwZsLwQHlo&list=PLIYzsTnFhywyjBon1_tE4ZGVzXAx5FpWr)\"\n",
        "\n",
        "\n",
        "---\n",
        "\n"
      ]
    },
    {
      "cell_type": "markdown",
      "metadata": {
        "id": "zcpFu9dh-2Sy"
      },
      "source": [
        "## G - Aufgabe 1 - Unterscheidung zwischen KI und ML\n",
        "**Beschreibe jeweils in einem Satz, wie die Begriffe \"Künstliche Intelligenz\" (KI) und \"Machine Learning\" (ML) definiert sind. Stelle hierbei den Zusammenhang dieser Gebiete dar.** [(Video 2)](https://www.youtube.com/watch?v=_zpF5AExTms&list=PLIYzsTnFhywyjBon1_tE4ZGVzXAx5FpWr&index=2)"
      ]
    },
    {
      "cell_type": "markdown",
      "metadata": {
        "id": "sOvh0n8QrCll"
      },
      "source": [
        "## G - Aufgabe 2 - Anwendungsgebiete von ML\n",
        "**Beschreibe die Anwendungsgebiete von ML und benennen die Vorteile. Was benötigt ML als Grundlage?** [(Video 2)](https://www.youtube.com/watch?v=_zpF5AExTms&list=PLIYzsTnFhywyjBon1_tE4ZGVzXAx5FpWr&index=2)"
      ]
    },
    {
      "cell_type": "markdown",
      "metadata": {
        "id": "uJX3BchdrGmL"
      },
      "source": [
        "## G - Aufgabe 3 - Arten von ML\n",
        "**Benenne und beschreibe die am häufigsten genutzten *Arten* des \"Machine Learning\".  Verwende hierfür die Begriffe \"Eingabedaten\", \"Lernschritt\", \"Zieldaten\", \"Label\", \"Funktion\", \"Clustering\".** [(Video 3)](https://www.youtube.com/watch?v=LnB283MtFic&list=PLIYzsTnFhywyjBon1_tE4ZGVzXAx5FpWr&index=3)"
      ]
    },
    {
      "cell_type": "markdown",
      "metadata": {
        "id": "CtjZQDLPrK5B"
      },
      "source": [
        "## G - Aufgabe 4 - Anwendungsgebiete von ML\n",
        "**Beschreibe anhand der dargestellten Beispiele die Anwendungsgebiete des ML dar. Gehe hierbei die Unterschiede und Gemensamkeiten der Begriffe \"Clustering\", \"Klassifikation\" und \"Regression\" ein.** [(Video 4)](https://www.youtube.com/watch?v=HhyJQOH8eI0&list=PLIYzsTnFhywyjBon1_tE4ZGVzXAx5FpWr&index=4)"
      ]
    },
    {
      "cell_type": "markdown",
      "metadata": {
        "id": "pm3EhCSgrPGI"
      },
      "source": [
        "## G - Aufgabe 5 - schwache und starke KI\n",
        "**Beschreibe den Unterschied zwischen \"*schwacher KI*\" und \"*starker KI*\".** [(Video 5)](https://www.youtube.com/watch?v=-qN3cjKr66I&list=PLIYzsTnFhywyjBon1_tE4ZGVzXAx5FpWr&index=5)"
      ]
    },
    {
      "cell_type": "markdown",
      "metadata": {
        "id": "53IQQiThEkik"
      },
      "source": [
        "# Aufgaben zur Programmierung mit Python (P)\n",
        "\n",
        "## Grundlage für diese Übungen sind die Videos aus der Reihe [\"Python Tutorial deutsch/german (Crashkurs)\"](https://www.youtube.com/watch?v=oxXAb8IikHM&list=PL_pqkvxZ6ho3u8PJAsUU-rOAQ74D0TqZB).\n",
        "\n",
        "\n",
        "---\n",
        "\n"
      ]
    },
    {
      "cell_type": "markdown",
      "metadata": {
        "id": "_gOL5LRuOC_d"
      },
      "source": [
        "## P - Aufgabe 1 - print-Anweisung und Kommentare\n",
        "\n",
        "Das Ausdrucken (Ausgabe) von Werten ist in der Progammierung ein wesentlicher Bestandteil. Ebenso das Kommentieren von Code-Teilen.\n",
        "\n",
        "**Führe den unteren Code aus (▶). Ändere den Text nach eigenem Belieben. Beschreibe Dein Vorgehen im Code als Kommentar mit einem #** [(Video 1)](https://www.youtube.com/watch?v=oxXAb8IikHM&list=PL_pqkvxZ6ho3u8PJAsUU-rOAQ74D0TqZB&index=1)"
      ]
    },
    {
      "cell_type": "code",
      "execution_count": null,
      "metadata": {
        "colab": {
          "base_uri": "https://localhost:8080/"
        },
        "id": "aaAskKoTO6f4",
        "outputId": "91ea3ac2-3e38-46bf-aebc-0fd7d35a252e"
      },
      "outputs": [
        {
          "name": "stdout",
          "output_type": "stream",
          "text": [
            "Hallo Welt\n"
          ]
        }
      ],
      "source": [
        "print('Hallo Welt')"
      ]
    },
    {
      "cell_type": "markdown",
      "metadata": {
        "id": "3PHdm3kpwxZW"
      },
      "source": [
        "## P - Aufgabe 2 - *Variablen* (Teil A)\n",
        "\n",
        "Im [Video 8 der Reihe \"Programmiere mit Python - Baue deine eigene KI\"](https://www.youtube.com/watch?v=-AwZsLwQHlo&list=PLIYzsTnFhywyjBon1_tE4ZGVzXAx5FpWr&index=8) hast Du etwas über die Verwendung von Variablen erfahren. Diese Information sollst Du in eine praktische Übung umsetzen. Das Beispiel aus dem Video findest Du in der unteren Codezeile.\n",
        "\n",
        "Für eine praktische Umsetzung muss man die Werte \"ausgedruckt\" sehen. Hierzu dient der Befehl \"`print()`\" (Siehe P - Aufgabe 1).\n",
        "\n",
        "**Führe den Code aus (▶). Welche Teile vom Code werden nicht \"ausgedruckt\"? Begründe.** [(Video 2)](https://www.youtube.com/watch?v=VtiDkRDPA_c&list=PL_pqkvxZ6ho3u8PJAsUU-rOAQ74D0TqZB&index=2), [(Video 3)](https://www.youtube.com/watch?v=sTEf4_mrLvw&list=PL_pqkvxZ6ho3u8PJAsUU-rOAQ74D0TqZB&index=3), [(Video 4)](https://www.youtube.com/watch?v=jfOLXKPGXJ0&list=PL_pqkvxZ6ho3u8PJAsUU-rOAQ74D0TqZB&index=4)"
      ]
    },
    {
      "cell_type": "code",
      "execution_count": null,
      "metadata": {
        "colab": {
          "base_uri": "https://localhost:8080/"
        },
        "id": "IMQxhhp1wrAX",
        "outputId": "ead809e3-bf81-45e6-d9f8-438105717963"
      },
      "outputs": [
        {
          "name": "stdout",
          "output_type": "stream",
          "text": [
            "5\n",
            "35.6\n",
            "34.2\n",
            "Braun\n"
          ]
        }
      ],
      "source": [
        "#Integer = Ganze Zahlen\n",
        "beine = 5\n",
        "\n",
        "#Float = Dezimalzahlen\n",
        "groesse = 35.6\n",
        "breite = 34.2\n",
        "\n",
        "#String = Textzeichen\n",
        "farbe = 'Braun'\n",
        "\n",
        "#Ausdruck der Werte\n",
        "print(beine)\n",
        "print(groesse)\n",
        "print(breite)\n",
        "print(farbe)"
      ]
    },
    {
      "cell_type": "markdown",
      "metadata": {
        "id": "8IiJ1VsNy2ln"
      },
      "source": [
        "## P - Aufgabe 2 - *Variablen* (Teil B)\n",
        "\n",
        "In dieser Aufgabe findet sich eine Kopie des obigen Codes.\n",
        "\n",
        "**Verändere die Werte nach Deinem Belieben. Führe den Code aus (▶). Beobachtet Eure Ergebnisse.** [(Video 4)](https://www.youtube.com/watch?v=jfOLXKPGXJ0&list=PL_pqkvxZ6ho3u8PJAsUU-rOAQ74D0TqZB&index=4)"
      ]
    },
    {
      "cell_type": "code",
      "execution_count": null,
      "metadata": {
        "id": "RLb-k0mEzmBb"
      },
      "outputs": [],
      "source": [
        "#Integer = Ganze Zahlen\n",
        "beine = 4\n",
        "\n",
        "#Float = Dezimalzahlen\n",
        "groesse = 35.6\n",
        "breite = 34.2\n",
        "\n",
        "#String = Textzeichen\n",
        "farbe = 'Braun'\n",
        "\n",
        "#Ausdruck der Werte\n",
        "print(beine)\n",
        "print(groesse)\n",
        "print(breite)\n",
        "print(farbe)"
      ]
    },
    {
      "cell_type": "markdown",
      "metadata": {
        "id": "jQvIsSB00u-h"
      },
      "source": [
        "## P - Aufgabe 3 - Typen von *Variablen* (Teil A)\n",
        "\n",
        "Bei Python wird der Typ einer Variable \"automatisch\" zugeordnet. Dies bedeutet, dass die Angabe hinter dem Gleichheitszeichen (=) bestimmt, welcher Typ die Variable hat. Dies hat *Vorteile* und *Nachteile*, die durch eine praktische Übung dargestellt werden soll.\n",
        "\n",
        "Im unteren Code sind den Variablen Werte zugeordnet. **Benenne jeweils den Typ der Variable. Überprüfe Dein Ergebnis mit der Funktion `type()`. Hierzu mit `print(type(Name der Variable))` den Typ ausgeben lassen.** [(Video 5)](https://www.youtube.com/watch?v=1WqFJ5wsA4o&list=PL_pqkvxZ6ho3u8PJAsUU-rOAQ74D0TqZB&index=5)"
      ]
    },
    {
      "cell_type": "code",
      "execution_count": null,
      "metadata": {
        "id": "xR7syfHg3Ql7"
      },
      "outputs": [],
      "source": [
        "x = 3.2\n",
        "y = 4\n",
        "z = 'Name'"
      ]
    },
    {
      "cell_type": "markdown",
      "metadata": {
        "id": "564V07Ht3d98"
      },
      "source": [
        "## P - Aufgabe 3 - Typen von *Variablen* (Teil B)\n",
        "\n",
        "Unten findest Du den Code mit den obigen Angaben und einer Ausgabe per `print()`.\n",
        "\n",
        "Tippe unterhalb der print-Anweisungen die Variablen mit anderen Werte ein, die einen anderen Typ haben. Gebe den Typ mit der obigen Anweisung (print und type) aus. **Beschreibe Deinen Vergleich zwischen beiden print-Anweisungen.** [(Video 5)](https://www.youtube.com/watch?v=1WqFJ5wsA4o&list=PL_pqkvxZ6ho3u8PJAsUU-rOAQ74D0TqZB&index=5)"
      ]
    },
    {
      "cell_type": "code",
      "execution_count": null,
      "metadata": {
        "id": "Ph1UoyCu5S7S"
      },
      "outputs": [],
      "source": [
        "x = 3.2\n",
        "y = 4\n",
        "z = 'Name'\n",
        "print(type(x))\n",
        "print(type(y))\n",
        "print(type(z))"
      ]
    },
    {
      "cell_type": "markdown",
      "metadata": {
        "id": "upqCc2vxB924"
      },
      "source": [
        "## P - Aufgabe 3 - Typen von *Variablen* (Teil C)\n",
        "\n",
        "Im Video aus der Reihe \"Bau Deine eigene KI\" ist die Rede von dem Erzwingen eines Datentypes. Im unteren Code kann dieses \"Erzwingen\" ausprobiert werden.\n",
        "\n",
        "**Verwende für das Erzwingen die Funktionen `int()`, `str()` und `float()`. Setze hierfür bei der Variable x `int()`, bei y `str()` und bei z `float()` ein. Vergleiche die Werte mit der Ausgabe in Aufgaben \"P - Aufgabe 3 - Teil A\". Verwende hierzu die print-Anweisung.**\n",
        "\n",
        "Es müsste eine Fehlermeldung erscheinen. **Bei welcher Variable muss das Erzwingen rückgängig gemacht werden, damit der Fehler nicht mehr erzeugt wird?** [(Video 5)](https://www.youtube.com/watch?v=1WqFJ5wsA4o&list=PL_pqkvxZ6ho3u8PJAsUU-rOAQ74D0TqZB&index=5), [(Video 7)](https://www.youtube.com/watch?v=u_ECGvn1Z2c&list=PL_pqkvxZ6ho3u8PJAsUU-rOAQ74D0TqZB&index=7)"
      ]
    },
    {
      "cell_type": "code",
      "execution_count": null,
      "metadata": {
        "id": "HtgeJh3EDHwr"
      },
      "outputs": [],
      "source": [
        "x = 3.2\n",
        "y = 4\n",
        "z = 'Name'"
      ]
    },
    {
      "cell_type": "markdown",
      "metadata": {
        "id": "A_u-7n0-Gy9_"
      },
      "source": [
        "## P - Aufgabe 4 - Operatoren (Teil A)\n",
        "\n",
        "Eine wichtige Eigenschaft von Variablen ist, dass man mit ihnen Berechnungen, Verknüpfungen (Verkettungen) und Vergleiche durchführen kann. In dieser Aufgabe geht es um die Berechnung mit den Grundrechenarten. Die Grundrechenarten können einfach über die folgenden Rechenoperatoren angewendet werden:\n",
        "\n",
        "\n",
        "*   Addition mit \"+\"\n",
        "*   Subtraktion mit \"-\"\n",
        "*   Multiplikation mit \"*\"\n",
        "*   Division mit \"/\"\n",
        "\n",
        "**Ändere im unteren Code die Rechenoperation und beobachte Dein Ergebnis.** [(Video 5)](https://www.youtube.com/watch?v=1WqFJ5wsA4o&list=PL_pqkvxZ6ho3u8PJAsUU-rOAQ74D0TqZB&index=5)"
      ]
    },
    {
      "cell_type": "code",
      "execution_count": null,
      "metadata": {
        "id": "9HAKVKThI28Q"
      },
      "outputs": [],
      "source": [
        "x = 4\n",
        "y = 5\n",
        "print(x+y)"
      ]
    },
    {
      "cell_type": "markdown",
      "metadata": {
        "id": "BOhY87QVSiKL"
      },
      "source": [
        "## P - Aufgabe 4 - Operatoren (Teil B)\n",
        "\n",
        "Operatoren dienen nicht nur zur Berechnung, wie schon in \"P - Aufgabe 4 - Operatoren (Teil A)\" geschrieben, sondern um Werte zu verknüpfen. An der Stelle ist der Typ einer Variable bedeutsam, denn nur Variablen mit dem Typ \"String\" lassen sich verknüpfen. Variablen mit dem Typ \"float\" oder \"integer\" lassen sich mit Operatoren nur berechnen.\n",
        "\n",
        "**Im unteren Code finden sich nur String-Variablen. Führe diesen Code aus, um die Ausgabe zu sehen. Ändere die Variablen nach eigenem Ermessen. Überlege Dir eigene Sätze und Variablen.** [(Video 5)](https://www.youtube.com/watch?v=1WqFJ5wsA4o&list=PL_pqkvxZ6ho3u8PJAsUU-rOAQ74D0TqZB&index=5)"
      ]
    },
    {
      "cell_type": "code",
      "execution_count": null,
      "metadata": {
        "id": "pbpt_zcYTr99"
      },
      "outputs": [],
      "source": [
        "x = 'Hallo'\n",
        "y = 'Welt'\n",
        "print(x + ', ich bin der Schönste auf dieser ' + y + '!')"
      ]
    },
    {
      "cell_type": "markdown",
      "metadata": {
        "id": "-uAiAugsUnyT"
      },
      "source": [
        "##P - Aufgabe 4 - Operatoren (Teil C)\n",
        "\n",
        "Wie in der vorherigen Aufgabe beschrieben, ist der Typ entscheidend, wie die Operatoren interpretiert werden.\n",
        "\n",
        "Im unteren Code sind die Variablen unterschiedlichen Typen zugeordnet. **Führe mit diesen Angaben jeweils eine *Berechnung* und eine *Verknüpfung* durch.**\n",
        "\n",
        "ℹ *Hinweis:* Mit den einfachen Anführungsstriche (') lässt sich eine Zahl als String angeben. ℹ ) [(Video 5](https://www.youtube.com/watch?v=u_ECGvn1Z2c&list=PL_pqkvxZ6ho3u8PJAsUU-rOAQ74D0TqZB&index=5), [(Video 7)](https://www.youtube.com/watch?v=u_ECGvn1Z2c&list=PL_pqkvxZ6ho3u8PJAsUU-rOAQ74D0TqZB&index=7)"
      ]
    },
    {
      "cell_type": "code",
      "execution_count": null,
      "metadata": {
        "colab": {
          "base_uri": "https://localhost:8080/",
          "height": 204
        },
        "id": "rUMY_t2qWdB2",
        "outputId": "075ed234-61e1-4f59-afdd-ba4a4377403e"
      },
      "outputs": [
        {
          "ename": "TypeError",
          "evalue": "ignored",
          "output_type": "error",
          "traceback": [
            "\u001b[0;31m---------------------------------------------------------------------------\u001b[0m",
            "\u001b[0;31mTypeError\u001b[0m                                 Traceback (most recent call last)",
            "\u001b[0;32m<ipython-input-1-c531264078fc>\u001b[0m in \u001b[0;36m<cell line: 3>\u001b[0;34m()\u001b[0m\n\u001b[1;32m      1\u001b[0m \u001b[0mx\u001b[0m \u001b[0;34m=\u001b[0m \u001b[0;34m'2'\u001b[0m\u001b[0;34m\u001b[0m\u001b[0;34m\u001b[0m\u001b[0m\n\u001b[1;32m      2\u001b[0m \u001b[0my\u001b[0m \u001b[0;34m=\u001b[0m \u001b[0;36m3\u001b[0m\u001b[0;34m\u001b[0m\u001b[0;34m\u001b[0m\u001b[0m\n\u001b[0;32m----> 3\u001b[0;31m \u001b[0mprint\u001b[0m\u001b[0;34m(\u001b[0m\u001b[0mx\u001b[0m\u001b[0;34m+\u001b[0m\u001b[0my\u001b[0m\u001b[0;34m)\u001b[0m\u001b[0;34m\u001b[0m\u001b[0;34m\u001b[0m\u001b[0m\n\u001b[0m",
            "\u001b[0;31mTypeError\u001b[0m: can only concatenate str (not \"int\") to str"
          ]
        }
      ],
      "source": [
        "x = '2'\n",
        "y = 3\n",
        "print(x+y)"
      ]
    },
    {
      "cell_type": "markdown",
      "metadata": {
        "id": "ZLAZZ3UYtd_G"
      },
      "source": [
        "##P - Aufgabe 4 - Operatoren (Teil D)\n",
        "\n",
        "Nebenden \"Rechenoperatoren\" gibt es die \"Vergleichsoperatoren\". Diese dienen dazu, um Werte miteinander zu vergleichen oder zu ordnen.\n",
        "\n",
        "Der Vergleich ist \"wahr\" (true) oder \"falsch\" (false). Solche Ergebnisse gehören zum Typ \"boolean\". Zu den Vergleichoperatoren zählen:\n",
        "*  < ➡ kleiner-größer (Beispiel: 5 < 7)\n",
        "*  \\>  ➡ größer-kleiner (Beispiel: 7 > 5)\n",
        "*  <=  ➡ kleiner-gleich (Beispiel: 7 <= 7 oder 5 <= 7)\n",
        "*  \\>=  ➡ größer-gleich (Beispiel: 7 >= 7 oder 7 >= 5)\n",
        "*  ==  ➡ gleich-gleich (Beispiel: 7 == 7)\n",
        "\n",
        "**Führe den unteren Code aus. Ändere die \"Aussage\", um den Wert des Typs zu ändern.** [(Video 9)](https://www.youtube.com/watch?v=ucsv_Nhhxmk&list=PL_pqkvxZ6ho3u8PJAsUU-rOAQ74D0TqZB&index=9)"
      ]
    },
    {
      "cell_type": "code",
      "execution_count": null,
      "metadata": {
        "id": "d388uKyIvmDg"
      },
      "outputs": [],
      "source": [
        "x = 6\n",
        "y = 7\n",
        "z = x < 7\n",
        "print(z)"
      ]
    },
    {
      "cell_type": "markdown",
      "metadata": {
        "id": "M3IW_AO4XNd_"
      },
      "source": [
        "## P - Aufgabe 5 - input-Funktion\n",
        "\n",
        "Eine Programmierung ist vieler Hinsicht erst dann sinnvoll, wenn der Nutzer Werte eingeben kann. Wie aus den Aufgaben zuvor zu erkennen, ist der Typ von Bedeutung (und Zahlen können dann String sein 😏). Über eine input-Anweisung `input()` werden alle Eingaben als \"String\" zurückgegeben. Will man mit diesen rechnen, müssen diese \"umgewandelt\" werden, wie in \"P - Aufgabe 3 - Typen von Variablen (Teil C)\".\n",
        "\n",
        "1.   **Passen den Code auf die Weise an, dass beide Eingaben berechnet werden können.**\n",
        "2.   **Führe über eine weitere input-Anweisung eine Verkettung mit einem bestehenden Text und den Eingaben durch (siehe \"P - Aufgabe 4 -  Opertoren (Teil B)\")**\n",
        "\n",
        "[(Video 6](https://www.youtube.com/watch?v=I9h1c-121Uk&list=PL_pqkvxZ6ho3u8PJAsUU-rOAQ74D0TqZB&index=6), [(Video 7)](https://www.youtube.com/watch?v=u_ECGvn1Z2c&list=PL_pqkvxZ6ho3u8PJAsUU-rOAQ74D0TqZB&index=7)"
      ]
    },
    {
      "cell_type": "code",
      "execution_count": null,
      "metadata": {
        "colab": {
          "base_uri": "https://localhost:8080/"
        },
        "id": "CzxSK4cGZBks",
        "outputId": "ecb37de7-8bdf-4825-fb48-7c835098d939"
      },
      "outputs": [
        {
          "name": "stdout",
          "output_type": "stream",
          "text": [
            "Gebe einen ersten Wert an:12\n",
            "Gebe einen zweiten Wert an:12\n",
            "1212\n"
          ]
        }
      ],
      "source": [
        "value1 = input('Gebe einen ersten Wert an:')\n",
        "value2 = input('Gebe einen zweiten Wert an:')\n",
        "\n",
        "print(value1 + value2)"
      ]
    }
  ],
  "metadata": {
    "colab": {
      "provenance": []
    },
    "kernelspec": {
      "display_name": "Python 3",
      "name": "python3"
    },
    "language_info": {
      "name": "python"
    }
  },
  "nbformat": 4,
  "nbformat_minor": 0
}
