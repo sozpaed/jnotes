{
  "cells": [
    {
      "cell_type": "markdown",
      "metadata": {
        "id": "78HPV97k-NwK"
      },
      "source": [
        "# 3. Teil - Lektionen zu Python\n",
        "\n",
        "\n",
        "---\n",
        "\n",
        "\n",
        "\n",
        "Dies ist der **dritte Teil** zum Thema \"Python\".\n",
        "\n",
        "In diesen Lektionen wendet man alle Elemente aus dem Tutorial an.\n",
        "\n",
        "---\n",
        "***"
      ]
    },
    {
      "cell_type": "markdown",
      "metadata": {
        "id": "_gOL5LRuOC_d"
      },
      "source": [
        "## Lektion 1 - *Abfrage entwerfen*\n",
        "\n",
        "Entwerfe zu den folgenden Sätzen Abfragen mit dem Befehl ```input```. Übertrage die Werte dieser Abfrage jeweils in einen anderen Variabelnamen. Gebe die Antworten in einem Satz mit dem Befehl ```print``` zusammen.\n",
        "- Wie ist Dein Name?\n",
        "- Wo wohnst Du?\n",
        "- Was ist Dein Hobby"
      ]
    },
    {
      "cell_type": "code",
      "execution_count": null,
      "metadata": {
        "colab": {
          "base_uri": "https://localhost:8080/"
        },
        "id": "aaAskKoTO6f4",
        "outputId": "91ea3ac2-3e38-46bf-aebc-0fd7d35a252e"
      },
      "outputs": [],
      "source": [
        "#Lektion 1"
      ]
    },
    {
      "cell_type": "markdown",
      "metadata": {},
      "source": [
        "***\n",
        "---\n",
        "\n",
        "\n",
        "# Lektion 2 - *1x1-Kopfübung*\n",
        "\n",
        "Entwerfe ein Programm, das Multiplikationsaufgaben aus zwei zufäligen Zahlen erzeugt. Über eine Abfrage sollen Nutzer eine Zahl eingeben können. Implementiere die folgenden Funktionen:\n",
        "- **Überprüfung**: Die Eingabe des Users und die Berechnung durch das Programm solleb verglichen werden. Sind beide Werte korrekt, soll die Ausgabe \"richtig\" ansonsten \"falsch\" angezeigt werden.\n",
        "- **Punktezählung**: Über einen Punktezähler soll die Anzahl der \"richtig\" gelösten Aufgaben erfasst werden. Ist die Aufgabe \"falsch\" gelöst, soll je ein Punkt abgezogen werden.\n",
        "- **Schwierigkeitsgrad**: Der Schwierigkeitsgrad der Aufgaben soll sich steigern. Entweder in Abhängigkeit der Punktezählung oder über die Einstellungen."
      ]
    },
    {
      "cell_type": "code",
      "execution_count": null,
      "metadata": {},
      "outputs": [],
      "source": [
        "# Lektion 2"
      ]
    }
  ],
  "metadata": {
    "colab": {
      "provenance": []
    },
    "kernelspec": {
      "display_name": "Python 3",
      "name": "python3"
    },
    "language_info": {
      "codemirror_mode": {
        "name": "ipython",
        "version": 3
      },
      "file_extension": ".py",
      "mimetype": "text/x-python",
      "name": "python",
      "nbconvert_exporter": "python",
      "pygments_lexer": "ipython3",
      "version": "3.11.4"
    }
  },
  "nbformat": 4,
  "nbformat_minor": 0
}
